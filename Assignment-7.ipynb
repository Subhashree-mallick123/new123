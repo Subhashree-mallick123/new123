{
 "cells": [
  {
   "cell_type": "code",
   "execution_count": 1,
   "id": "7bbeb18f",
   "metadata": {},
   "outputs": [
    {
     "name": "stdout",
     "output_type": "stream",
     "text": [
      "Enter no. of numbers u want in a list: 5\n",
      "Enter  5  nos:\n",
      "12\n",
      "24\n",
      "68\n",
      "78\n",
      "41\n",
      "[12, 24, 68, 78, 41]\n",
      "Enter a number: 4\n",
      "Numbers divisible by 4 are:\n",
      "12 24 68 "
     ]
    }
   ],
   "source": [
    "#Python Program to Find Numbers Divisible by Another Number\n",
    "l=[]\n",
    "n=int(input(\"Enter no. of numbers u want in a list: \"))\n",
    "print(\"Enter \",n,\" nos:\")\n",
    "for i in range(n):\n",
    "    new_l=int(input())\n",
    "    l.append(new_l)\n",
    "print(l)\n",
    "m=int(input(\"Enter a number: \"))\n",
    "print(\"Numbers divisible by\",m,\"are:\")\n",
    "for i in l:\n",
    "    if i%m==0:\n",
    "        print(i,end=\" \")"
   ]
  },
  {
   "cell_type": "code",
   "execution_count": 2,
   "id": "f1baede2",
   "metadata": {},
   "outputs": [
    {
     "name": "stdout",
     "output_type": "stream",
     "text": [
      "Enter a number: 54\n",
      "Binary number: \n",
      "110110\n"
     ]
    }
   ],
   "source": [
    "#Python Program to Convert Decimal to Binary\n",
    "n=int(input(\"Enter a number: \"))\n",
    "s=\"\"\n",
    "while n>=1:\n",
    "    r=n%2\n",
    "    s=s+str(r)\n",
    "    n=int(n/2)\n",
    "print(\"Binary number: \")      \n",
    "print(s[::-1])"
   ]
  },
  {
   "cell_type": "code",
   "execution_count": 3,
   "id": "54d74c30",
   "metadata": {},
   "outputs": [
    {
     "name": "stdout",
     "output_type": "stream",
     "text": [
      "Enter a number: 1234\n",
      "Hexadecimal Number:  4D2\n"
     ]
    }
   ],
   "source": [
    "#Python Program to Convert Decimal to Hexadecimal\n",
    "n=int(input(\"Enter a number: \"))\n",
    "s=\"\"\n",
    "while n>0:\n",
    "    r=n%16\n",
    "    if r>=10:\n",
    "        if r==10:\n",
    "            r=\"A\"\n",
    "        elif r==11:\n",
    "            r=\"B\"\n",
    "        elif r==12:\n",
    "            r=\"C\"\n",
    "        elif r==13:\n",
    "            r=\"D\"\n",
    "        elif r==14:\n",
    "            r=\"E\"\n",
    "        else:\n",
    "            r=\"F\"\n",
    "    s=s+str(r)\n",
    "    n=int(n/16)\n",
    "print(\"Hexadecimal Number: \",s[::-1])"
   ]
  },
  {
   "cell_type": "code",
   "execution_count": 4,
   "id": "c33c46ea",
   "metadata": {},
   "outputs": [
    {
     "name": "stdout",
     "output_type": "stream",
     "text": [
      "j\n",
      "The ASCII value of  j  is  106\n"
     ]
    }
   ],
   "source": [
    "#Python Program to Find ASCII Value of Character\n",
    "character=input(\"\")\n",
    "print(\"The ASCII value of \",character,\" is \",ord(character))"
   ]
  },
  {
   "cell_type": "code",
   "execution_count": 5,
   "id": "ec3ff611",
   "metadata": {},
   "outputs": [
    {
     "name": "stdout",
     "output_type": "stream",
     "text": [
      "Enter 1st Number: 56\n",
      "Enter 2nd Number: 65\n",
      "HCF = 1\n"
     ]
    }
   ],
   "source": [
    "#Python Program to Find HCF or GCD\n",
    "n=int(input(\"Enter 1st Number: \"))\n",
    "m=int(input(\"Enter 2nd Number: \"))\n",
    "k=min(n,m)\n",
    "l=[]\n",
    "for i in range(1,k+1):\n",
    "    if n%i==0 and m%i==0:\n",
    "        l.append(i)\n",
    "print(\"HCF =\",max(l))"
   ]
  },
  {
   "cell_type": "code",
   "execution_count": null,
   "id": "857b93ee",
   "metadata": {},
   "outputs": [],
   "source": []
  }
 ],
 "metadata": {
  "kernelspec": {
   "display_name": "Python 3",
   "language": "python",
   "name": "python3"
  },
  "language_info": {
   "codemirror_mode": {
    "name": "ipython",
    "version": 3
   },
   "file_extension": ".py",
   "mimetype": "text/x-python",
   "name": "python",
   "nbconvert_exporter": "python",
   "pygments_lexer": "ipython3",
   "version": "3.8.8"
  }
 },
 "nbformat": 4,
 "nbformat_minor": 5
}
