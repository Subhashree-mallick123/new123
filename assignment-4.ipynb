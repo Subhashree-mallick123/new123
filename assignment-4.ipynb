{
 "cells": [
  {
   "cell_type": "code",
   "execution_count": 1,
   "id": "e9085949",
   "metadata": {},
   "outputs": [
    {
     "name": "stdout",
     "output_type": "stream",
     "text": [
      "Enter value in kilometers: 8.2\n",
      "8.20 kilometers is equal to 5.10 miles\n"
     ]
    }
   ],
   "source": [
    "#Python Program to Convert Kilometers to Miles\n",
    "kilometers = float(input(\"Enter value in kilometers: \"))\n",
    "conv_fac = 0.621371\n",
    "miles = kilometers * conv_fac\n",
    "print('%0.2f kilometers is equal to %0.2f miles' %(kilometers,miles))"
   ]
  },
  {
   "cell_type": "code",
   "execution_count": 2,
   "id": "2dd485f0",
   "metadata": {},
   "outputs": [
    {
     "name": "stdout",
     "output_type": "stream",
     "text": [
      "Enter temperature in Celsius:10\n",
      "Temperature in Fahrenheit: 50.0\n"
     ]
    }
   ],
   "source": [
    "#Python Program to Convert Celsius To Fahrenheit\n",
    "cel = int(input(\"Enter temperature in Celsius:\"))\n",
    "print (\"Temperature in Fahrenheit:\", (cel * 1.8) + 32)"
   ]
  },
  {
   "cell_type": "code",
   "execution_count": 3,
   "id": "611015c6",
   "metadata": {},
   "outputs": [
    {
     "name": "stdout",
     "output_type": "stream",
     "text": [
      "Enter a number:-2\n",
      "Number is negative\n"
     ]
    }
   ],
   "source": [
    "#Python Program to Check if a Number is Positive, Negative or 0\n",
    "num = int(input(\"Enter a number:\"))\n",
    "if (num > 0):\n",
    "    print (\"Number is positive\")\n",
    "elif (num == 0):\n",
    "    print (\"Number is 0\")\n",
    "else:\n",
    "    print (\"Number is negative\")"
   ]
  },
  {
   "cell_type": "code",
   "execution_count": 4,
   "id": "1e591bfb",
   "metadata": {},
   "outputs": [
    {
     "name": "stdout",
     "output_type": "stream",
     "text": [
      "Enter a number:7\n",
      "7 is odd\n"
     ]
    }
   ],
   "source": [
    "#Python Program to Check if a Number is Odd or Even\n",
    "num = int(input(\"Enter a number:\"))\n",
    "if (num % 2 == 0):\n",
    "    print (\"{} is even\".format(num))\n",
    "else:\n",
    "    print (\"{} is odd\".format(num))"
   ]
  },
  {
   "cell_type": "code",
   "execution_count": 5,
   "id": "15369142",
   "metadata": {},
   "outputs": [
    {
     "name": "stdout",
     "output_type": "stream",
     "text": [
      "Enter an year:2024\n",
      "2024 is a leap year\n"
     ]
    }
   ],
   "source": [
    "#Python Program to Check Leap Year\n",
    "year = int(input(\"Enter an year:\"))\n",
    "if (year % 4 == 0):\n",
    "    if (year % 100 == 0):\n",
    "        if (year % 400 == 0):\n",
    "            print (\"{} is a leap year\".format(year))\n",
    "        else:\n",
    "            print (\"{} is not a leap year\".format(year))\n",
    "    else:\n",
    "         print (\"{} is a leap year\".format(year))\n",
    "else:\n",
    "     print (\"{} is not a leap year\".format(year))"
   ]
  },
  {
   "cell_type": "code",
   "execution_count": null,
   "id": "9af75246",
   "metadata": {},
   "outputs": [],
   "source": []
  }
 ],
 "metadata": {
  "kernelspec": {
   "display_name": "Python 3",
   "language": "python",
   "name": "python3"
  },
  "language_info": {
   "codemirror_mode": {
    "name": "ipython",
    "version": 3
   },
   "file_extension": ".py",
   "mimetype": "text/x-python",
   "name": "python",
   "nbconvert_exporter": "python",
   "pygments_lexer": "ipython3",
   "version": "3.8.8"
  }
 },
 "nbformat": 4,
 "nbformat_minor": 5
}
