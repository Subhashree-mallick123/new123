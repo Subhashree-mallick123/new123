{
 "cells": [
  {
   "cell_type": "code",
   "execution_count": 1,
   "id": "01c72bb6",
   "metadata": {},
   "outputs": [
    {
     "name": "stdout",
     "output_type": "stream",
     "text": [
      "Enter a decimal number: 5\n",
      "Binary of 5 is:-\n",
      "101"
     ]
    }
   ],
   "source": [
    "# Decimal to binary(method 1)\n",
    "def decimal_to_binary(num):\n",
    "\n",
    "    if(num>1):\n",
    "        decimal_to_binary(num//2)\n",
    "\n",
    "    \n",
    "    print(num%2 , end=\"\")\n",
    "\n",
    "num= int(input(\"Enter a decimal number: \"))\n",
    "print(f\"Binary of {num} is:-\")\n",
    "decimal_to_binary(num)"
   ]
  },
  {
   "cell_type": "code",
   "execution_count": 2,
   "id": "549c8f94",
   "metadata": {},
   "outputs": [
    {
     "name": "stdout",
     "output_type": "stream",
     "text": [
      "Enter a decimal number: 5\n",
      "Hexadecimal of 5 is:-\n",
      "5\n"
     ]
    }
   ],
   "source": [
    "def decimal_to_hexadecimal(num):\n",
    "\n",
    "   print(hex(num).split('x')[-1])\n",
    "\n",
    "num= int(input(\"Enter a decimal number: \"))\n",
    "print(f\"Hexadecimal of {num} is:-\")\n",
    "decimal_to_hexadecimal(num)"
   ]
  },
  {
   "cell_type": "code",
   "execution_count": 3,
   "id": "40d7a2e8",
   "metadata": {},
   "outputs": [
    {
     "name": "stdout",
     "output_type": "stream",
     "text": [
      "Enter any number:5\n",
      "5 is not an armstrong number\n"
     ]
    }
   ],
   "source": [
    "# Qno- TO check whether it is armstrong number or not\n",
    "\n",
    "num=int(input(\"Enter any number:\"))\n",
    "sum=0\n",
    "temp=num\n",
    "while num!=0:\n",
    "    rem = num%10\n",
    "    sum+= rem**3\n",
    "    num = num//10\n",
    "if temp==sum:\n",
    "    print(temp ,'is an armstrong number')\n",
    "else:\n",
    "    print(temp ,'is not an armstrong number')"
   ]
  },
  {
   "cell_type": "code",
   "execution_count": 4,
   "id": "0f96d3a6",
   "metadata": {},
   "outputs": [
    {
     "name": "stdout",
     "output_type": "stream",
     "text": [
      "Enter a number to find it's factors 3\n",
      "Factors of 3 is:\n",
      "1 3 "
     ]
    }
   ],
   "source": [
    "# Calculating factors of a number using 'RECURSION'\n",
    "\n",
    "\n",
    "def factors(n,i):\n",
    "\n",
    "\n",
    "    if i>n:\n",
    "        return 0\n",
    "    if i<=n:\n",
    "        if n%i == 0:\n",
    "            print(i, end=\" \")\n",
    "    \n",
    "    factors(n, i+1)\n",
    "\n",
    "\n",
    "\n",
    "n=int(input(\"Enter a number to find it's factors \"))\n",
    "print(f\"Factors of {n} is:\")\n",
    "factors(n,1)"
   ]
  },
  {
   "cell_type": "code",
   "execution_count": 5,
   "id": "e61b8ae2",
   "metadata": {},
   "outputs": [
    {
     "name": "stdout",
     "output_type": "stream",
     "text": [
      "Enter a number: 3\n",
      "Factorial of 3:  6\n"
     ]
    }
   ],
   "source": [
    "# WAP to print factorial of a number, where number is entered by user\n",
    "\n",
    "num=int(input(\"Enter a number: \"))\n",
    "fac=1\n",
    "for i in range(1,num+1):\n",
    " fac=fac*i\n",
    "print(f\"Factorial of {num}: \" ,fac)"
   ]
  },
  {
   "cell_type": "code",
   "execution_count": null,
   "id": "c7f95a6c",
   "metadata": {},
   "outputs": [],
   "source": []
  }
 ],
 "metadata": {
  "kernelspec": {
   "display_name": "Python 3",
   "language": "python",
   "name": "python3"
  },
  "language_info": {
   "codemirror_mode": {
    "name": "ipython",
    "version": 3
   },
   "file_extension": ".py",
   "mimetype": "text/x-python",
   "name": "python",
   "nbconvert_exporter": "python",
   "pygments_lexer": "ipython3",
   "version": "3.8.8"
  }
 },
 "nbformat": 4,
 "nbformat_minor": 5
}
