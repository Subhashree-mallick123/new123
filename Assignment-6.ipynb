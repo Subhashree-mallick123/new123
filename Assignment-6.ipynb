{
 "cells": [
  {
   "cell_type": "code",
   "execution_count": 1,
   "id": "e46f597f",
   "metadata": {},
   "outputs": [
    {
     "name": "stdout",
     "output_type": "stream",
     "text": [
      "121\n",
      "121  is not a Armstrong Number.\n"
     ]
    }
   ],
   "source": [
    "#Python Program to Check Armstrong Number (for 3 digits)\n",
    "n=int(input(\"\"))\n",
    "sum=0\n",
    "temp=n\n",
    "while temp>0:\n",
    "    r=temp%10\n",
    "    sum=sum+(r*r*r)\n",
    "    temp=int(temp/10)\n",
    "if sum==n:\n",
    "    print(n,\" is a Armstrong Number.\")\n",
    "else:\n",
    "    print(n,\" is not a Armstrong Number.\")"
   ]
  },
  {
   "cell_type": "code",
   "execution_count": 2,
   "id": "311122a4",
   "metadata": {},
   "outputs": [
    {
     "name": "stdout",
     "output_type": "stream",
     "text": [
      "1224\n",
      "81\n"
     ]
    }
   ],
   "source": [
    "# find the sum of the cube of each digit\n",
    "n=int(input(\"\"))\n",
    "sum=0\n",
    "while n>0:\n",
    "    r=n%10\n",
    "    sum=sum+(r*r*r)\n",
    "    n=int(n/10)\n",
    "print(sum)"
   ]
  },
  {
   "cell_type": "code",
   "execution_count": 3,
   "id": "04b305cf",
   "metadata": {},
   "outputs": [
    {
     "name": "stdout",
     "output_type": "stream",
     "text": [
      "Enter upper limit: 1\n",
      "Enter lower limit: 200\n",
      "1  is a Armstrong Number.\n",
      "153  is a Armstrong Number.\n"
     ]
    }
   ],
   "source": [
    "#Python Program to Find Armstrong Number in an Interval\n",
    "n=int(input(\"Enter upper limit: \"))\n",
    "m=int(input(\"Enter lower limit: \"))\n",
    "for i in range(n,m+1):\n",
    "    sum=0\n",
    "    temp=i\n",
    "    while temp>0:\n",
    "        r=temp%10\n",
    "        sum=sum+(r*r*r)\n",
    "        temp=int(temp/10)\n",
    "    if sum==i:\n",
    "        print(i,\" is a Armstrong Number.\")\n"
   ]
  },
  {
   "cell_type": "code",
   "execution_count": 4,
   "id": "1d8c2112",
   "metadata": {},
   "outputs": [
    {
     "name": "stdout",
     "output_type": "stream",
     "text": [
      "55\n",
      "Sum = 1540\n"
     ]
    }
   ],
   "source": [
    "#Python Program to Find the Sum of Natural Numbers\n",
    "n=int(input(\"\"))\n",
    "sum=0\n",
    "for i in range(n+1):\n",
    "    sum=sum+i\n",
    "print(\"Sum =\",sum)"
   ]
  },
  {
   "cell_type": "code",
   "execution_count": 5,
   "id": "9ae991f0",
   "metadata": {},
   "outputs": [
    {
     "name": "stdout",
     "output_type": "stream",
     "text": [
      "2 raised to the power  0  is  1\n",
      "2 raised to the power  1  is  2\n",
      "2 raised to the power  2  is  4\n",
      "2 raised to the power  3  is  8\n",
      "2 raised to the power  4  is  16\n",
      "2 raised to the power  5  is  32\n",
      "2 raised to the power  6  is  64\n",
      "2 raised to the power  7  is  128\n",
      "2 raised to the power  8  is  256\n",
      "2 raised to the power  9  is  512\n"
     ]
    }
   ],
   "source": [
    "#Python Program To Display Powers of 2 Using Anonymous Function Display the powers of 2 using anonymous function\n",
    "n=10\n",
    "for i in range(10):\n",
    "    g=lambda i:2**i\n",
    "    print(\"2 raised to the power \",i,\" is \",g(i))"
   ]
  },
  {
   "cell_type": "code",
   "execution_count": null,
   "id": "6cd21297",
   "metadata": {},
   "outputs": [],
   "source": []
  }
 ],
 "metadata": {
  "kernelspec": {
   "display_name": "Python 3",
   "language": "python",
   "name": "python3"
  },
  "language_info": {
   "codemirror_mode": {
    "name": "ipython",
    "version": 3
   },
   "file_extension": ".py",
   "mimetype": "text/x-python",
   "name": "python",
   "nbconvert_exporter": "python",
   "pygments_lexer": "ipython3",
   "version": "3.8.8"
  }
 },
 "nbformat": 4,
 "nbformat_minor": 5
}
