{
 "cells": [
  {
   "cell_type": "code",
   "execution_count": 1,
   "id": "bebb07ee",
   "metadata": {},
   "outputs": [
    {
     "name": "stdout",
     "output_type": "stream",
     "text": [
      "Enter a number: 4\n",
      "0 1 1 2 "
     ]
    }
   ],
   "source": [
    "# Qno-fibonacci Series\n",
    "num=int(input(\"Enter a number: \"))\n",
    "a=-1\n",
    "b=1\n",
    "for i in range(num):\n",
    "    c=a+b\n",
    "    print(c,end=\" \")\n",
    "    a=b\n",
    "    b=c"
   ]
  },
  {
   "cell_type": "code",
   "execution_count": 2,
   "id": "c23236c4",
   "metadata": {},
   "outputs": [
    {
     "name": "stdout",
     "output_type": "stream",
     "text": [
      "Enter a number: 5\n",
      "5 is positive\n"
     ]
    }
   ],
   "source": [
    "# Qno-WAP to check weather a number is positive,negative or zero\n",
    "num=int(input(\"Enter a number: \"))\n",
    "print(f\"{num} is positive\") if num>0 else print(f\"{num} is negative\") if num<0 else print(f\"number is {num} \")"
   ]
  },
  {
   "cell_type": "code",
   "execution_count": 3,
   "id": "44a7867e",
   "metadata": {},
   "outputs": [
    {
     "name": "stdout",
     "output_type": "stream",
     "text": [
      "Power of two till 2^10\n",
      "1\n",
      "2\n",
      "4\n",
      "8\n",
      "16\n",
      "32\n",
      "64\n",
      "128\n",
      "256\n",
      "512\n"
     ]
    }
   ],
   "source": [
    "def power_of_two():\n",
    "\n",
    "    print(\"Power of two till 2^10\")\n",
    "    for i in range(0,10):\n",
    "        print(2**i)\n",
    "\n",
    "power_of_two()"
   ]
  },
  {
   "cell_type": "code",
   "execution_count": 4,
   "id": "5d893b1a",
   "metadata": {},
   "outputs": [
    {
     "name": "stdout",
     "output_type": "stream",
     "text": [
      "Enter any word: mamun\n",
      "Oiginal word:  mamun\n",
      "Word in alphabetical order:  ['a', 'm', 'm', 'n', 'u']\n"
     ]
    }
   ],
   "source": [
    "word=input(\"Enter any word: \")\n",
    "print(\"Oiginal word: \", word)\n",
    "print(\"Word in alphabetical order: \", sorted(word))"
   ]
  },
  {
   "cell_type": "code",
   "execution_count": null,
   "id": "7dd72667",
   "metadata": {},
   "outputs": [],
   "source": []
  }
 ],
 "metadata": {
  "kernelspec": {
   "display_name": "Python 3",
   "language": "python",
   "name": "python3"
  },
  "language_info": {
   "codemirror_mode": {
    "name": "ipython",
    "version": 3
   },
   "file_extension": ".py",
   "mimetype": "text/x-python",
   "name": "python",
   "nbconvert_exporter": "python",
   "pygments_lexer": "ipython3",
   "version": "3.8.8"
  }
 },
 "nbformat": 4,
 "nbformat_minor": 5
}
