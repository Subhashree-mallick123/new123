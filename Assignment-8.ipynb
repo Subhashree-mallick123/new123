{
 "cells": [
  {
   "cell_type": "code",
   "execution_count": 1,
   "id": "8a6b5e87",
   "metadata": {},
   "outputs": [
    {
     "name": "stdout",
     "output_type": "stream",
     "text": [
      "Enter 1st Number: 20\n",
      "Enter 2nd Number: 10\n",
      "HCF = 10\n"
     ]
    }
   ],
   "source": [
    "#Write a python function to find HCf or GCD and return the value\n",
    "def hcf(m,n):\n",
    "    k=min(n,m)\n",
    "    l=[]\n",
    "    for i in range(1,k+1):\n",
    "        if n%i==0 and m%i==0:\n",
    "            l.append(i)\n",
    "    return print(\"HCF =\",max(l))\n",
    "n=int(input(\"Enter 1st Number: \"))\n",
    "m=int(input(\"Enter 2nd Number: \"))    \n",
    "hcf(m,n)"
   ]
  },
  {
   "cell_type": "code",
   "execution_count": 2,
   "id": "55ad2aea",
   "metadata": {},
   "outputs": [
    {
     "name": "stdout",
     "output_type": "stream",
     "text": [
      "Enter 1st Number: 45\n",
      "Enter 2nd Number: 6\n",
      "HCF = 3\n"
     ]
    }
   ],
   "source": [
    "#Write a python function to find HCf or GCD and return the value using euclidian Algorithm\n",
    "def gcd(a,b):\n",
    "    while b>0:\n",
    "            temp=a\n",
    "            a=b\n",
    "            b=temp\n",
    "            b=b%a\n",
    "    return print(\"HCF =\",a)   \n",
    "a=int(input(\"Enter 1st Number: \"))\n",
    "b=int(input(\"Enter 2nd Number: \"))    \n",
    "gcd(a,b)"
   ]
  },
  {
   "cell_type": "code",
   "execution_count": 3,
   "id": "c7516c8d",
   "metadata": {},
   "outputs": [
    {
     "name": "stdout",
     "output_type": "stream",
     "text": [
      "Enter 1st Number: 34\n",
      "Enter 2nd Number: 21\n",
      "HCF = 1\n"
     ]
    }
   ],
   "source": [
    "#Write a python program to find HCf or GCD using euclidian Algorithm\n",
    "a=int(input(\"Enter 1st Number: \"))\n",
    "b=int(input(\"Enter 2nd Number: \"))  \n",
    "while b>0:\n",
    "            temp=a\n",
    "            a=b\n",
    "            b=temp\n",
    "            b=b%a\n",
    "print(\"HCF =\",a)\n"
   ]
  },
  {
   "cell_type": "code",
   "execution_count": 5,
   "id": "02d41972",
   "metadata": {},
   "outputs": [
    {
     "name": "stdout",
     "output_type": "stream",
     "text": [
      "Enter 1st Number: 4\n",
      "Enter 2nd Number: 10\n",
      "LCM of 4 and 10 is 20\n"
     ]
    }
   ],
   "source": [
    "x=int(input(\"Enter 1st Number: \"))\n",
    "y=int(input(\"Enter 2nd Number: \"))  \n",
    "z=max(x,y)\n",
    "temp=z\n",
    "while True:\n",
    "    if z%x==0 and z%y==0:\n",
    "        lcm=z\n",
    "        break\n",
    "    else:\n",
    "        z=z+temp\n",
    "print(\"LCM of\",x,\"and\",y,\"is\",lcm)"
   ]
  },
  {
   "cell_type": "code",
   "execution_count": 11,
   "id": "5e191fc5",
   "metadata": {},
   "outputs": [
    {
     "name": "stdout",
     "output_type": "stream",
     "text": [
      "Enter 1st Number: 24\n",
      "Enter 2nd Number: 36\n",
      "LCM of 24 and 36 is 72\n"
     ]
    }
   ],
   "source": [
    "#write a Python function to Find LCM and return the value\n",
    "def lcm(x,y):\n",
    "    z=max(x,y)\n",
    "    temp=z\n",
    "    while True:\n",
    "        if z%x==0 and z%y==0:\n",
    "            lcm=z\n",
    "            break\n",
    "        else:\n",
    "            z=z+temp\n",
    "    return print(\"LCM of\",x,\"and\",y,\"is\",lcm)    \n",
    "x=int(input(\"Enter 1st Number: \"))\n",
    "y=int(input(\"Enter 2nd Number: \"))  \n",
    "lcm(x,y)"
   ]
  },
  {
   "cell_type": "code",
   "execution_count": null,
   "id": "60809344",
   "metadata": {},
   "outputs": [],
   "source": []
  }
 ],
 "metadata": {
  "kernelspec": {
   "display_name": "Python 3",
   "language": "python",
   "name": "python3"
  },
  "language_info": {
   "codemirror_mode": {
    "name": "ipython",
    "version": 3
   },
   "file_extension": ".py",
   "mimetype": "text/x-python",
   "name": "python",
   "nbconvert_exporter": "python",
   "pygments_lexer": "ipython3",
   "version": "3.8.8"
  }
 },
 "nbformat": 4,
 "nbformat_minor": 5
}
